{
 "cells": [
  {
   "cell_type": "code",
   "execution_count": null,
   "id": "initial_id",
   "metadata": {
    "collapsed": true
   },
   "outputs": [],
   "source": [
    "from typing import List, Dict, Union, Tuple\n",
    "import numpy as np\n",
    "from PIL import Image, ImageDraw\n",
    "\n",
    "Annotation = Dict[str, Union[str, List[List[float]]]]\n",
    "\n",
    "def annotation_to_mask(\n",
    "    size: Tuple[int, int],\n",
    "    annotations: List[Annotation]\n",
    ") -> np.ndarray:\n",
    "    \"\"\"Convert rect/poly annotations into a binary mask.\n",
    "\n",
    "    Args:\n",
    "        size: (width, height) of the source image.\n",
    "        annotations: List of dicts, each with:\n",
    "          - 'type': 'rect' or 'poly'\n",
    "          - 'points': [[x0, y0], [x1, y1]] for rect\n",
    "                       or [[x, y], …] for poly\n",
    "\n",
    "    Returns:\n",
    "        mask: boolean array of shape (height, width), True inside annotations.\n",
    "    \"\"\"\n",
    "    width, height = size\n",
    "    mask_img = Image.new(\"L\", (width, height), 0)\n",
    "    draw = ImageDraw.Draw(mask_img)\n",
    "\n",
    "    for ann in annotations:\n",
    "        pts = ann[\"points\"]\n",
    "        if ann[\"type\"] == \"rect\":\n",
    "            (x0, y0), (x1, y1) = pts\n",
    "            draw.rectangle([int(x0), int(y0), int(x1), int(y1)], fill=1)\n",
    "        elif ann[\"type\"] == \"poly\":\n",
    "            xy = [(int(x), int(y)) for x, y in pts]\n",
    "            draw.polygon(xy, fill=1)\n",
    "\n",
    "    return np.array(mask_img, dtype=bool)\n"
   ]
  }
 ],
 "metadata": {
  "kernelspec": {
   "display_name": "Python 3",
   "language": "python",
   "name": "python3"
  },
  "language_info": {
   "codemirror_mode": {
    "name": "ipython",
    "version": 2
   },
   "file_extension": ".py",
   "mimetype": "text/x-python",
   "name": "python",
   "nbconvert_exporter": "python",
   "pygments_lexer": "ipython2",
   "version": "2.7.6"
  }
 },
 "nbformat": 4,
 "nbformat_minor": 5
}
